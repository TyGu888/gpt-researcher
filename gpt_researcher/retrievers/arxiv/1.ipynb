{
 "cells": [
  {
   "cell_type": "code",
   "execution_count": 3,
   "metadata": {},
   "outputs": [],
   "source": [
    "from langchain_community.retrievers import ArxivRetriever\n"
   ]
  },
  {
   "cell_type": "code",
   "execution_count": 16,
   "metadata": {},
   "outputs": [],
   "source": [
    "retriever = ArxivRetriever(load_max_docs=10)"
   ]
  },
  {
   "cell_type": "code",
   "execution_count": 19,
   "metadata": {},
   "outputs": [],
   "source": [
    "docs = retriever.invoke('difussion based model' )"
   ]
  },
  {
   "cell_type": "code",
   "execution_count": 20,
   "metadata": {},
   "outputs": [
    {
     "data": {
      "text/plain": [
       "[Document(page_content='Diffusion MRI (dMRI) is an important neuroimaging technique with high\\nacquisition costs. Deep learning approaches have been used to enhance dMRI and\\npredict diffusion biomarkers through undersampled dMRI. To generate more\\ncomprehensive raw dMRI, generative adversarial network based methods are\\nproposed to include b-values and b-vectors as conditions, but they are limited\\nby unstable training and less desirable diversity. The emerging diffusion model\\n(DM) promises to improve generative performance. However, it remains\\nchallenging to include essential information in conditioning DM for more\\nrelevant generation, i.e., the physical principles of dMRI and white matter\\ntract structures. In this study, we propose a physics-guided diffusion model to\\ngenerate high-quality dMRI. Our model introduces the physical principles of\\ndMRI in the noise evolution in the diffusion process and introduce a\\nquery-based conditional mapping within the difussion model. In addition, to\\nenhance the anatomical fine detials of the generation, we introduce the XTRACT\\natlas as prior of white matter tracts by adopting an adapter technique. Our\\nexperiment results show that our method outperforms other state-of-the-art\\nmethods and has the potential to advance dMRI enhancement.', metadata={'Entry ID': 'http://arxiv.org/abs/2406.03002v1', 'Published': datetime.date(2024, 6, 5), 'Title': 'Phy-Diff: Physics-guided Hourglass Diffusion Model for Diffusion MRI Synthesis', 'Authors': 'Juanhua Zhang, Ruodan Yan, Alessandro Perelli, Xi Chen, Chao Li'}),\n",
       " Document(page_content='In this paper, we study the relationship between a diffusive model and a\\nnon-diffusive model which are both derived from the well-known Keller-Segel\\nmodel, as a coefficient of diffusion $\\\\varepsilon$ goes to zero. First, we\\nestablish the global well-posedness of classical solutions to the Cauchy\\nproblem for the diffusive model with smooth initial data which is of small\\n$L^2$ norm, together with some {\\\\it a priori} estimates uniform for $t$ and\\n$\\\\varepsilon$. Then we investigate the zero-diffusion limit, and get the global\\nwell-posedness of classical solutions to the Cauchy problem for the\\nnon-diffusive model. Finally, we derive the convergence rate of the diffusive\\nmodel toward the non-diffusive model. It is shown that the convergence rate in\\n$L^\\\\infty$ norm is of the order $O(\\\\varepsilon^{1/2})$. It should be noted that\\nthe initial data is small in $L^2$-norm but can be of large oscillations with\\nconstant state at far field. As a byproduct, we improve the corresponding\\nresult on the well-posedness of the non-difussive model which requires small\\noscillations.', metadata={'Entry ID': 'http://arxiv.org/abs/1210.5101v1', 'Published': datetime.date(2012, 10, 18), 'Title': 'Global well-posedness and zero-diffusion limit of classical solutions to the 3D conservation laws arising in chemotaxis', 'Authors': 'Hongyun Peng, Huanyao Wen, Changjiang Zhu'}),\n",
       " Document(page_content='We present a complete study of the Multiparticle Biased Diffusion-Limited\\nAggregation (MBDLA) model supplemented with surface difussion (SD), focusing on\\nthe relevance and effects of the latter transport mechanism. By comparing\\ndifferent algorithms, we show that MBDLA+SD is a very good qualitative model\\nfor electrodeposition in practically all the range of current intensities {\\\\em\\nprovided} one introduces SD in the model in the proper fashion: We have found\\nthat the correct procedure involves simultaneous bulk diffusion and SD,\\nintroducing a time scale arising from the ratio of the rates of both processes.\\nWe discuss in detail the different morphologies obtained and compare them to\\nthe available experimental data with very satisfactory results. We also\\ncharacterize the aggregates thus obtained by means of the dynamic scaling\\nexponents of the interface height, allowing us to distinguish several regimes\\nin the mentioned interface growth. Our asymptotic scaling exponents are again\\nin good agreement with recent experiments. We conclude by discussing a global\\npicture of the influence and consequences of SD in electrodeposition.', metadata={'Entry ID': 'http://arxiv.org/abs/cond-mat/0003167v1', 'Published': datetime.date(2000, 3, 10), 'Title': 'Multiparticle Biased DLA with surface diffusion: a comprehensive model of electrodeposition', 'Authors': 'Mario Castro, Rodolfo Cuerno, Angel Sanchez, Francisco Dominguez-Adame'})]"
      ]
     },
     "execution_count": 20,
     "metadata": {},
     "output_type": "execute_result"
    }
   ],
   "source": [
    "docs"
   ]
  }
 ],
 "metadata": {
  "kernelspec": {
   "display_name": "gptresearch",
   "language": "python",
   "name": "python3"
  },
  "language_info": {
   "codemirror_mode": {
    "name": "ipython",
    "version": 3
   },
   "file_extension": ".py",
   "mimetype": "text/x-python",
   "name": "python",
   "nbconvert_exporter": "python",
   "pygments_lexer": "ipython3",
   "version": "3.11.9"
  }
 },
 "nbformat": 4,
 "nbformat_minor": 2
}
